{
 "cells": [
  {
   "cell_type": "code",
   "execution_count": 1,
   "metadata": {},
   "outputs": [],
   "source": [
    "import os, glob"
   ]
  },
  {
   "cell_type": "code",
   "execution_count": 2,
   "metadata": {},
   "outputs": [
    {
     "ename": "FileNotFoundError",
     "evalue": "[WinError 3] The system cannot find the path specified: 'C:\\\\Users\\\\ID78116\\\\Downloads\\\\PolicyPro\\\\PolicyPro'",
     "output_type": "error",
     "traceback": [
      "\u001b[1;31m---------------------------------------------------------------------------\u001b[0m",
      "\u001b[1;31mFileNotFoundError\u001b[0m                         Traceback (most recent call last)",
      "\u001b[1;32mc:\\Users\\ID77894\\Documents\\Hackathon\\Project 4\\learning-machine\\test_process_data.ipynb Cell 2\u001b[0m in \u001b[0;36m<cell line: 1>\u001b[1;34m()\u001b[0m\n\u001b[1;32m----> <a href='vscode-notebook-cell:/c%3A/Users/ID77894/Documents/Hackathon/Project%204/learning-machine/test_process_data.ipynb#ch0000001?line=0'>1</a>\u001b[0m os\u001b[39m.\u001b[39;49mchdir(\u001b[39mr\u001b[39;49m\u001b[39m\"\u001b[39;49m\u001b[39mC:\u001b[39;49m\u001b[39m\\\u001b[39;49m\u001b[39mUsers\u001b[39;49m\u001b[39m\\\u001b[39;49m\u001b[39mID78116\u001b[39;49m\u001b[39m\\\u001b[39;49m\u001b[39mDownloads\u001b[39;49m\u001b[39m\\\u001b[39;49m\u001b[39mPolicyPro\u001b[39;49m\u001b[39m\\\u001b[39;49m\u001b[39mPolicyPro\u001b[39;49m\u001b[39m\"\u001b[39;49m)\n\u001b[0;32m      <a href='vscode-notebook-cell:/c%3A/Users/ID77894/Documents/Hackathon/Project%204/learning-machine/test_process_data.ipynb#ch0000001?line=1'>2</a>\u001b[0m files \u001b[39m=\u001b[39m glob\u001b[39m.\u001b[39mglob(\u001b[39mr\u001b[39m\u001b[39m'\u001b[39m\u001b[39m*log\u001b[39m\u001b[39m'\u001b[39m)\n\u001b[0;32m      <a href='vscode-notebook-cell:/c%3A/Users/ID77894/Documents/Hackathon/Project%204/learning-machine/test_process_data.ipynb#ch0000001?line=2'>3</a>\u001b[0m \u001b[39mprint\u001b[39m(files)\n",
      "\u001b[1;31mFileNotFoundError\u001b[0m: [WinError 3] The system cannot find the path specified: 'C:\\\\Users\\\\ID78116\\\\Downloads\\\\PolicyPro\\\\PolicyPro'"
     ]
    }
   ],
   "source": [
    "os.chdir(r\"C:\\Users\\ID78116\\Downloads\\PolicyPro\\PolicyPro\")\n",
    "files = glob.glob(r'*log')\n",
    "print(files)\n",
    "output_f = open(r\"C:\\Users\\ID78116\\learning-machine\\log_output_no_xml.txt\", \"w+\")\n",
    "\n",
    "for file in files:\n",
    "    f = open(file)\n",
    "    lines = f.readlines()\n",
    "    for line in lines:\n",
    "        splitted_line = line.split(' ')\n",
    "        date = splitted_line[0]\n",
    "        time = splitted_line[1]\n",
    "        total_len = len(splitted_line)\n",
    "        error_message_len = total_len - 11\n",
    "        error_message = splitted_line[-error_message_len:]\n",
    "        error_message = \" \".join(error_message)\n",
    "        # print(error_message)\n",
    "        output_f.write(date + '----'  + time + '----' + error_message)\n"
   ]
  },
  {
   "cell_type": "code",
   "execution_count": null,
   "metadata": {},
   "outputs": [],
   "source": []
  }
 ],
 "metadata": {
  "kernelspec": {
   "display_name": "Python 3.9.4 64-bit (system)",
   "language": "python",
   "name": "python3"
  },
  "language_info": {
   "codemirror_mode": {
    "name": "ipython",
    "version": 3
   },
   "file_extension": ".py",
   "mimetype": "text/x-python",
   "name": "python",
   "nbconvert_exporter": "python",
   "pygments_lexer": "ipython3",
   "version": "3.9.4"
  },
  "orig_nbformat": 4,
  "vscode": {
   "interpreter": {
    "hash": "11938c6bc6919ae2720b4d5011047913343b08a43b18698fd82dedb0d4417594"
   }
  }
 },
 "nbformat": 4,
 "nbformat_minor": 2
}
